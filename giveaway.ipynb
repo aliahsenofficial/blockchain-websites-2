{
 "cells": [
  {
   "cell_type": "code",
   "execution_count": 117,
   "metadata": {},
   "outputs": [],
   "source": [
    "import csv\n",
    "import pandas as pd\n",
    "from time import sleep\n",
    "from selenium import webdriver\n",
    "from selenium.webdriver.common.by import By\n",
    "from selenium.webdriver.chrome.options import Options\n",
    "from selenium.webdriver.support.ui import WebDriverWait\n",
    "from selenium.webdriver.support import expected_conditions as EC"
   ]
  },
  {
   "cell_type": "code",
   "execution_count": 127,
   "metadata": {},
   "outputs": [],
   "source": [
    "def read_reports_from_csv():\n",
    "    df = pd.read_csv(\"All_Scraped.csv\")\n",
    "    report_list = df[\"Report\"].tolist()\n",
    "    return report_list\n",
    "\n",
    "previous_reports = read_reports_from_csv()"
   ]
  },
  {
   "cell_type": "code",
   "execution_count": 119,
   "metadata": {},
   "outputs": [],
   "source": [
    "options = Options()\n",
    "# options.add_argument('--headless=new')\n",
    "# options.add_argument('--ignore-certificate-errors')\n",
    "driver = webdriver.Chrome(options=options)\n",
    "driver.maximize_window()\n",
    "\n",
    "url = 'https://giveaway.com/sponsor'\n",
    "\n",
    "driver.get(url)\n",
    "element = WebDriverWait(driver, 15).until(EC.visibility_of_element_located((By.CSS_SELECTOR, 'div.inner')))"
   ]
  },
  {
   "cell_type": "code",
   "execution_count": 120,
   "metadata": {},
   "outputs": [],
   "source": [
    "def get_data(projects, new_scraped_writer, all_scraped_writer):\n",
    "    for project in projects:\n",
    "        report_link = project.get_attribute('href')\n",
    "\n",
    "        if report_link not in previous_reports:\n",
    "            data = {}\n",
    "\n",
    "            data['Name'] = project.find_element(By.CSS_SELECTOR, 'h2.title').text\n",
    "            data['Report'] = report_link\n",
    "            \n",
    "            links = project.find_elements(By.XPATH, './/div[2]/a')\n",
    "            for link in links:\n",
    "                style = link.get_attribute('style')\n",
    "                \n",
    "                if ('color: rgb(26, 26, 26);' == style):\n",
    "                    data['Website'] = link.get_attribute('href')\n",
    "\n",
    "                elif ('color: rgb(28, 187, 239);' == style):\n",
    "                    data['Telegram'] = link.get_attribute('href')\n",
    "\n",
    "                elif ('color: rgb(28, 186, 236);' == style):\n",
    "                    data['Twitter'] = link.get_attribute('href')\n",
    "\n",
    "                elif ('color: rgb(88, 101, 242);' == style):\n",
    "                    data['Discord'] = link.get_attribute('href')\n",
    "\n",
    "            if 'Website' not in data:\n",
    "                data['Website'] = ''\n",
    "            elif 'Telegram' not in data:\n",
    "                data['Telegram'] = ''\n",
    "            elif 'Twitter' not in data:\n",
    "                data['Twitter'] = ''\n",
    "            elif 'Discord' not in data:\n",
    "                data['Discord'] = ''\n",
    "\n",
    "            new_scraped_writer.writerow(data)\n",
    "            all_scraped_writer.writerow(data)\n",
    "        else:\n",
    "            continue"
   ]
  },
  {
   "cell_type": "code",
   "execution_count": 122,
   "metadata": {},
   "outputs": [],
   "source": [
    "header = ['Name','Website','Telegram','Twitter','Discord','Report']\n",
    "with open(\"All_Scraped.csv\", mode='a', newline='', encoding='utf-8') as all_scraped_file, open(\"New_Scraped.csv\", mode='a', newline='', encoding='utf-8') as new_scraped_file:\n",
    "    new_scraped_writer = csv.DictWriter(new_scraped_file, fieldnames=header)\n",
    "    all_scraped_writer = csv.DictWriter(all_scraped_file, fieldnames=header)\n",
    "\n",
    "    next_button = driver.find_element(By.CSS_SELECTOR, 'button.pagination__btn.next')\n",
    "    \n",
    "    while 'disabled' not in next_button.get_attribute('class'):\n",
    "        projects = driver.find_elements(By.CSS_SELECTOR, 'a.sc-64ff9a54-1.fhJBXs.card')\n",
    "        get_data(projects, new_scraped_writer, all_scraped_writer)\n",
    "\n",
    "        next_button.click()\n",
    "        sleep(5)\n",
    "\n",
    "    projects = driver.find_elements(By.CSS_SELECTOR, 'a.sc-64ff9a54-1.fhJBXs.card')\n",
    "    get_data(projects, new_scraped_writer, all_scraped_writer)"
   ]
  }
 ],
 "metadata": {
  "kernelspec": {
   "display_name": "Python 3",
   "language": "python",
   "name": "python3"
  },
  "language_info": {
   "codemirror_mode": {
    "name": "ipython",
    "version": 3
   },
   "file_extension": ".py",
   "mimetype": "text/x-python",
   "name": "python",
   "nbconvert_exporter": "python",
   "pygments_lexer": "ipython3",
   "version": "3.11.4"
  },
  "orig_nbformat": 4
 },
 "nbformat": 4,
 "nbformat_minor": 2
}
